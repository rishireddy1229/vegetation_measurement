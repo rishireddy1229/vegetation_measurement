{
 "cells": [
  {
   "cell_type": "markdown",
   "id": "192baa4a-6af0-45b1-9d30-c4a803f1da94",
   "metadata": {},
   "source": [
    "TRAINING"
   ]
  },
  {
   "cell_type": "code",
   "execution_count": 1,
   "id": "8f711f3d-ab67-4d93-81fb-1ac245a432a1",
   "metadata": {},
   "outputs": [
    {
     "name": "stdout",
     "output_type": "stream",
     "text": [
      "Support Vector Machine (SVM) Accuracy: 0.9239428885227897\n"
     ]
    }
   ],
   "source": [
    "import pandas as pd\n",
    "from sklearn.preprocessing import LabelEncoder\n",
    "from sklearn.model_selection import train_test_split\n",
    "from sklearn.svm import SVC\n",
    "from sklearn.metrics import accuracy_score\n",
    "\n",
    "# Load the dataset\n",
    "dataset = pd.read_csv('../dataset/train/train.csv')\n",
    "\n",
    "# Encode the color labels numerically\n",
    "label_encoder = LabelEncoder()\n",
    "dataset['repeated_colour'] = label_encoder.fit_transform(dataset['repeated_colour'])\n",
    "\n",
    "# Split features and target variable\n",
    "X = dataset.drop(columns=['grid', 'repeated_colour'])\n",
    "y = dataset['repeated_colour']\n",
    "\n",
    "# Train-test split\n",
    "X_train, X_test, y_train, y_test = train_test_split(X, y, test_size=0.2, random_state=42)\n",
    "\n",
    "# Model training\n",
    "svm_classifier = SVC()\n",
    "svm_classifier.fit(X_train, y_train)\n",
    "\n",
    "# Model evaluation\n",
    "y_pred_svm = svm_classifier.predict(X_test)\n",
    "accuracy_svm = accuracy_score(y_test, y_pred_svm)\n",
    "print(\"Support Vector Machine (SVM) Accuracy:\", accuracy_svm)\n"
   ]
  },
  {
   "cell_type": "markdown",
   "id": "af83b1ab-9e47-4b69-bc20-0cf905f2c414",
   "metadata": {},
   "source": [
    "TESTING"
   ]
  },
  {
   "cell_type": "code",
   "execution_count": 2,
   "id": "79b75e80-919a-4a71-87b1-78490ae06437",
   "metadata": {},
   "outputs": [
    {
     "name": "stdout",
     "output_type": "stream",
     "text": [
      "['Lawn Green']\n"
     ]
    }
   ],
   "source": [
    "import pandas as pd\n",
    "\n",
    "# Create a dictionary with the input values\n",
    "new_input_dict = {\n",
    "    'color1_h': [12],\n",
    "    'color1_s': [28],\n",
    "    'color1_v': [15],\n",
    "    'color2_h': [13],\n",
    "    'color2_s': [29],\n",
    "    'color2_v': [16],\n",
    "    'color3_h': [15],\n",
    "    'color3_s': [32],\n",
    "    'color3_v': [16],\n",
    "    'color4_h': [11],\n",
    "    'color4_s': [27],\n",
    "    'color4_v': [14]\n",
    "}\n",
    "\n",
    "# Convert the dictionary to a DataFrame\n",
    "new_input_df = pd.DataFrame(new_input_dict)\n",
    "\n",
    "# Make predictions\n",
    "new_predictions = svm_classifier.predict(new_input_df)\n",
    "\n",
    "# Decode the numerical predictions back to color labels\n",
    "decoded_predictions = label_encoder.inverse_transform(new_predictions)\n",
    "\n",
    "# Print the predictions\n",
    "print(decoded_predictions)\n"
   ]
  }
 ],
 "metadata": {
  "kernelspec": {
   "display_name": "Python 3 (ipykernel)",
   "language": "python",
   "name": "python3"
  },
  "language_info": {
   "codemirror_mode": {
    "name": "ipython",
    "version": 3
   },
   "file_extension": ".py",
   "mimetype": "text/x-python",
   "name": "python",
   "nbconvert_exporter": "python",
   "pygments_lexer": "ipython3",
   "version": "3.10.9"
  }
 },
 "nbformat": 4,
 "nbformat_minor": 5
}
